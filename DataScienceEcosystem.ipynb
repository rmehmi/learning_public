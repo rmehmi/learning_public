{
 "cells": [
  {
   "cell_type": "markdown",
   "id": "bc32bb94-8ce5-4036-980e-833dc0e850ee",
   "metadata": {},
   "source": [
    "# Data Science Tools and Ecosystem"
   ]
  },
  {
   "cell_type": "markdown",
   "id": "7b38cc50-4075-41fa-a62f-fe5f5efa2afb",
   "metadata": {},
   "source": [
    "## In this notebook, Data Science Tools and Ecosystem are summarized"
   ]
  },
  {
   "cell_type": "markdown",
   "id": "2be860c6-b429-40b7-99dc-1db51bf58291",
   "metadata": {},
   "source": [
    "#### Some of the popular languages that Data Scientists use are:\n",
    "1. Python\n",
    "2. R\n",
    "3. Julia\n",
    "4. Scala\n",
    "5. SQL"
   ]
  },
  {
   "cell_type": "markdown",
   "id": "cabea5b8-dbf7-4c86-9291-b562e3807072",
   "metadata": {},
   "source": [
    "### Some of the commonly used libraries used by Data Scientists include:\n",
    "1. Pandas\n",
    "2. NumPy\n",
    "3. Matplotlib\n",
    "4. TensorFlow\n",
    "5. Scikit-learn"
   ]
  },
  {
   "cell_type": "markdown",
   "id": "1b01ec16-ba48-4318-972f-319a779fe03d",
   "metadata": {
    "jp-MarkdownHeadingCollapsed": true,
    "tags": []
   },
   "source": [
    "|Data Science Tools |\n",
    "------------------\n",
    "|Jupyter Notebook   |\n",
    "|R Studio           |\n",
    "|JupyterLab         |\n",
    "|Tableau            |\n",
    "|Apache Hadoop      |\n"
   ]
  },
  {
   "cell_type": "markdown",
   "id": "b0a6faea-cd30-4215-9d59-e28ba4245697",
   "metadata": {},
   "source": [
    "### Below are a few examples of evaluating arithmetic expressions in Python"
   ]
  },
  {
   "cell_type": "code",
   "execution_count": 2,
   "id": "9966a56c-d319-44fa-80f7-3605bf2a0cc0",
   "metadata": {
    "tags": []
   },
   "outputs": [
    {
     "data": {
      "text/plain": [
       "17"
      ]
     },
     "execution_count": 2,
     "metadata": {},
     "output_type": "execute_result"
    }
   ],
   "source": [
    "# The following line is a simple arithmetic expression to multiply and then add integers\n",
    "(3*4)+5"
   ]
  },
  {
   "cell_type": "code",
   "execution_count": 3,
   "id": "4145079b-55fa-46a9-8aa3-363aafa02235",
   "metadata": {
    "tags": []
   },
   "outputs": [
    {
     "name": "stdout",
     "output_type": "stream",
     "text": [
      "3.3333333333333335\n"
     ]
    }
   ],
   "source": [
    "# This will convert 200 minutes to hours by dividing by 60\n",
    "minutes = 200\n",
    "hours = minutes / 60\n",
    "print(hours)"
   ]
  },
  {
   "cell_type": "markdown",
   "id": "1e5b55a1-2018-4001-9f8f-fffb9e0aa202",
   "metadata": {},
   "source": [
    "### Objectives:\n",
    "- List popular languages for Data Science\n",
    "- List popular tools for Data Science\n",
    "- Create Python code\n",
    "- Save the code to GitHub"
   ]
  },
  {
   "cell_type": "markdown",
   "id": "a8d5c029-47c4-455d-97af-b8f515bd897e",
   "metadata": {},
   "source": [
    "## Author\n",
    "Rajesh Mehmi"
   ]
  },
  {
   "cell_type": "code",
   "execution_count": null,
   "id": "aeb5cba2-abc2-4285-8c83-05f533073dc2",
   "metadata": {},
   "outputs": [],
   "source": []
  }
 ],
 "metadata": {
  "kernelspec": {
   "display_name": "Python",
   "language": "python",
   "name": "conda-env-python-py"
  },
  "language_info": {
   "codemirror_mode": {
    "name": "ipython",
    "version": 3
   },
   "file_extension": ".py",
   "mimetype": "text/x-python",
   "name": "python",
   "nbconvert_exporter": "python",
   "pygments_lexer": "ipython3",
   "version": "3.7.12"
  }
 },
 "nbformat": 4,
 "nbformat_minor": 5
}
